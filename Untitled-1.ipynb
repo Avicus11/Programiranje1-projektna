{
 "cells": [
  {
   "cell_type": "code",
   "execution_count": 137,
   "metadata": {},
   "outputs": [],
   "source": [
    "import pandas as pd\n",
    "evrovizija = pd.read_csv('C:/Users/Uporabnik/Desktop/prog1/projektna/Programiranje1-projektna/tabela.csv')\n",
    "pd.options.display.max_rows = 50\n"
   ]
  },
  {
   "cell_type": "markdown",
   "metadata": {},
   "source": [
    "Tabela, iz katere bomo izhajali:"
   ]
  },
  {
   "cell_type": "code",
   "execution_count": 138,
   "metadata": {},
   "outputs": [
    {
     "data": {
      "text/html": [
       "<div>\n",
       "<style scoped>\n",
       "    .dataframe tbody tr th:only-of-type {\n",
       "        vertical-align: middle;\n",
       "    }\n",
       "\n",
       "    .dataframe tbody tr th {\n",
       "        vertical-align: top;\n",
       "    }\n",
       "\n",
       "    .dataframe thead th {\n",
       "        text-align: right;\n",
       "    }\n",
       "</style>\n",
       "<table border=\"1\" class=\"dataframe\">\n",
       "  <thead>\n",
       "    <tr style=\"text-align: right;\">\n",
       "      <th></th>\n",
       "      <th>Year</th>\n",
       "      <th>Host City</th>\n",
       "      <th>Date</th>\n",
       "      <th>Winner</th>\n",
       "      <th>Song</th>\n",
       "      <th>Song duration</th>\n",
       "      <th>Performer(s)</th>\n",
       "      <th>Songwriter(s)</th>\n",
       "      <th>Language</th>\n",
       "      <th>Points</th>\n",
       "      <th>Runner(s)-up</th>\n",
       "      <th>Margin</th>\n",
       "    </tr>\n",
       "  </thead>\n",
       "  <tbody>\n",
       "    <tr>\n",
       "      <th>0</th>\n",
       "      <td>1956</td>\n",
       "      <td>Lugano</td>\n",
       "      <td>24 May</td>\n",
       "      <td>Switzerland</td>\n",
       "      <td>Refrain</td>\n",
       "      <td>Unknown</td>\n",
       "      <td>Lys Assia</td>\n",
       "      <td>Géo VoumardÉmile Gardaz</td>\n",
       "      <td>French</td>\n",
       "      <td>Not announced</td>\n",
       "      <td>Not announced</td>\n",
       "      <td>Not announced</td>\n",
       "    </tr>\n",
       "    <tr>\n",
       "      <th>1</th>\n",
       "      <td>1957</td>\n",
       "      <td>Frankfurt</td>\n",
       "      <td>3 March</td>\n",
       "      <td>Netherlands</td>\n",
       "      <td>Net als toen</td>\n",
       "      <td>Unknown</td>\n",
       "      <td>Corry Brokken</td>\n",
       "      <td>Guus JansenWilly van Hemert</td>\n",
       "      <td>Dutch</td>\n",
       "      <td>31</td>\n",
       "      <td>France</td>\n",
       "      <td>14</td>\n",
       "    </tr>\n",
       "    <tr>\n",
       "      <th>2</th>\n",
       "      <td>1958</td>\n",
       "      <td>Hilversum</td>\n",
       "      <td>12 March</td>\n",
       "      <td>France</td>\n",
       "      <td>Dors, mon amour</td>\n",
       "      <td>Unknown</td>\n",
       "      <td>André Claveau</td>\n",
       "      <td>Hubert GiraudPierre Delanoë</td>\n",
       "      <td>French</td>\n",
       "      <td>27</td>\n",
       "      <td>Switzerland</td>\n",
       "      <td>3</td>\n",
       "    </tr>\n",
       "    <tr>\n",
       "      <th>3</th>\n",
       "      <td>1959</td>\n",
       "      <td>Cannes</td>\n",
       "      <td>11 March</td>\n",
       "      <td>Netherlands</td>\n",
       "      <td>Een beetje</td>\n",
       "      <td>Unknown</td>\n",
       "      <td>Teddy Scholten</td>\n",
       "      <td>Dick SchalliesWilly van Hemert</td>\n",
       "      <td>Dutch</td>\n",
       "      <td>21</td>\n",
       "      <td>United Kingdom</td>\n",
       "      <td>5</td>\n",
       "    </tr>\n",
       "    <tr>\n",
       "      <th>4</th>\n",
       "      <td>1960</td>\n",
       "      <td>London</td>\n",
       "      <td>29 March</td>\n",
       "      <td>France</td>\n",
       "      <td>Tom Pillibi</td>\n",
       "      <td>Unknown</td>\n",
       "      <td>Jacqueline Boyer</td>\n",
       "      <td>André PoppPierre Cour</td>\n",
       "      <td>French</td>\n",
       "      <td>32</td>\n",
       "      <td>United Kingdom</td>\n",
       "      <td>7</td>\n",
       "    </tr>\n",
       "    <tr>\n",
       "      <th>...</th>\n",
       "      <td>...</td>\n",
       "      <td>...</td>\n",
       "      <td>...</td>\n",
       "      <td>...</td>\n",
       "      <td>...</td>\n",
       "      <td>...</td>\n",
       "      <td>...</td>\n",
       "      <td>...</td>\n",
       "      <td>...</td>\n",
       "      <td>...</td>\n",
       "      <td>...</td>\n",
       "      <td>...</td>\n",
       "    </tr>\n",
       "    <tr>\n",
       "      <th>64</th>\n",
       "      <td>2017</td>\n",
       "      <td>Kyiv</td>\n",
       "      <td>13 May</td>\n",
       "      <td>Portugal</td>\n",
       "      <td>Amar pelos dois</td>\n",
       "      <td>3:05</td>\n",
       "      <td>Salvador Sobral</td>\n",
       "      <td>Luísa Sobral</td>\n",
       "      <td>Portuguese</td>\n",
       "      <td>758</td>\n",
       "      <td>Bulgaria</td>\n",
       "      <td>143</td>\n",
       "    </tr>\n",
       "    <tr>\n",
       "      <th>65</th>\n",
       "      <td>2018</td>\n",
       "      <td>Lisbon</td>\n",
       "      <td>12 May</td>\n",
       "      <td>Israel</td>\n",
       "      <td>Toy</td>\n",
       "      <td>3:00</td>\n",
       "      <td>Netta</td>\n",
       "      <td>Doron MedalieStav Beger</td>\n",
       "      <td>English</td>\n",
       "      <td>529</td>\n",
       "      <td>Cyprus</td>\n",
       "      <td>93</td>\n",
       "    </tr>\n",
       "    <tr>\n",
       "      <th>66</th>\n",
       "      <td>2019</td>\n",
       "      <td>Tel Aviv</td>\n",
       "      <td>18 May</td>\n",
       "      <td>Netherlands</td>\n",
       "      <td>Arcade</td>\n",
       "      <td>3:04</td>\n",
       "      <td>Duncan Laurence</td>\n",
       "      <td>Duncan LaurenceJoel SjööWouter HardyWill Knox</td>\n",
       "      <td>English</td>\n",
       "      <td>498</td>\n",
       "      <td>Italy</td>\n",
       "      <td>26</td>\n",
       "    </tr>\n",
       "    <tr>\n",
       "      <th>67</th>\n",
       "      <td>2020</td>\n",
       "      <td>Contest cancelled due to the COVID-19 pandemic</td>\n",
       "      <td>Contest cancelled due to the COVID-19 pandemic</td>\n",
       "      <td>Contest cancelled due to the COVID-19 pandemic</td>\n",
       "      <td>Contest cancelled due to the COVID-19 pandemic</td>\n",
       "      <td>Unknown</td>\n",
       "      <td>Contest cancelled due to the COVID-19 pandemic</td>\n",
       "      <td>Contest cancelled due to the COVID-19 pandemic</td>\n",
       "      <td>Contest cancelled due to the COVID-19 pandemic</td>\n",
       "      <td>Contest cancelled due to the COVID-19 pandemic</td>\n",
       "      <td>Contest cancelled due to the COVID-19 pandemic</td>\n",
       "      <td>Contest cancelled due to the COVID-19 pandemic</td>\n",
       "    </tr>\n",
       "    <tr>\n",
       "      <th>68</th>\n",
       "      <td>2021</td>\n",
       "      <td>Rotterdam</td>\n",
       "      <td>22 May</td>\n",
       "      <td>Italy</td>\n",
       "      <td>Zitti e buoni</td>\n",
       "      <td>3:12</td>\n",
       "      <td>Måneskin</td>\n",
       "      <td>Damiano DavidEthan TorchioThomas RaggiVictoria...</td>\n",
       "      <td>Italian</td>\n",
       "      <td>524</td>\n",
       "      <td>France</td>\n",
       "      <td>25</td>\n",
       "    </tr>\n",
       "  </tbody>\n",
       "</table>\n",
       "<p>69 rows × 12 columns</p>\n",
       "</div>"
      ],
      "text/plain": [
       "    Year                                       Host City  \\\n",
       "0   1956                                          Lugano   \n",
       "1   1957                                       Frankfurt   \n",
       "2   1958                                       Hilversum   \n",
       "3   1959                                          Cannes   \n",
       "4   1960                                          London   \n",
       "..   ...                                             ...   \n",
       "64  2017                                            Kyiv   \n",
       "65  2018                                          Lisbon   \n",
       "66  2019                                        Tel Aviv   \n",
       "67  2020  Contest cancelled due to the COVID-19 pandemic   \n",
       "68  2021                                       Rotterdam   \n",
       "\n",
       "                                              Date  \\\n",
       "0                                           24 May   \n",
       "1                                          3 March   \n",
       "2                                         12 March   \n",
       "3                                         11 March   \n",
       "4                                         29 March   \n",
       "..                                             ...   \n",
       "64                                          13 May   \n",
       "65                                          12 May   \n",
       "66                                          18 May   \n",
       "67  Contest cancelled due to the COVID-19 pandemic   \n",
       "68                                          22 May   \n",
       "\n",
       "                                            Winner  \\\n",
       "0                                      Switzerland   \n",
       "1                                      Netherlands   \n",
       "2                                           France   \n",
       "3                                      Netherlands   \n",
       "4                                           France   \n",
       "..                                             ...   \n",
       "64                                        Portugal   \n",
       "65                                          Israel   \n",
       "66                                     Netherlands   \n",
       "67  Contest cancelled due to the COVID-19 pandemic   \n",
       "68                                           Italy   \n",
       "\n",
       "                                              Song Song duration  \\\n",
       "0                                          Refrain       Unknown   \n",
       "1                                     Net als toen       Unknown   \n",
       "2                                  Dors, mon amour       Unknown   \n",
       "3                                       Een beetje       Unknown   \n",
       "4                                      Tom Pillibi       Unknown   \n",
       "..                                             ...           ...   \n",
       "64                                 Amar pelos dois          3:05   \n",
       "65                                             Toy          3:00   \n",
       "66                                          Arcade          3:04   \n",
       "67  Contest cancelled due to the COVID-19 pandemic       Unknown   \n",
       "68                                   Zitti e buoni          3:12   \n",
       "\n",
       "                                      Performer(s)  \\\n",
       "0                                        Lys Assia   \n",
       "1                                    Corry Brokken   \n",
       "2                                    André Claveau   \n",
       "3                                   Teddy Scholten   \n",
       "4                                 Jacqueline Boyer   \n",
       "..                                             ...   \n",
       "64                                 Salvador Sobral   \n",
       "65                                           Netta   \n",
       "66                                 Duncan Laurence   \n",
       "67  Contest cancelled due to the COVID-19 pandemic   \n",
       "68                                        Måneskin   \n",
       "\n",
       "                                        Songwriter(s)  \\\n",
       "0                             Géo VoumardÉmile Gardaz   \n",
       "1                         Guus JansenWilly van Hemert   \n",
       "2                         Hubert GiraudPierre Delanoë   \n",
       "3                      Dick SchalliesWilly van Hemert   \n",
       "4                               André PoppPierre Cour   \n",
       "..                                                ...   \n",
       "64                                       Luísa Sobral   \n",
       "65                            Doron MedalieStav Beger   \n",
       "66      Duncan LaurenceJoel SjööWouter HardyWill Knox   \n",
       "67     Contest cancelled due to the COVID-19 pandemic   \n",
       "68  Damiano DavidEthan TorchioThomas RaggiVictoria...   \n",
       "\n",
       "                                          Language  \\\n",
       "0                                           French   \n",
       "1                                            Dutch   \n",
       "2                                           French   \n",
       "3                                            Dutch   \n",
       "4                                           French   \n",
       "..                                             ...   \n",
       "64                                      Portuguese   \n",
       "65                                         English   \n",
       "66                                         English   \n",
       "67  Contest cancelled due to the COVID-19 pandemic   \n",
       "68                                         Italian   \n",
       "\n",
       "                                            Points  \\\n",
       "0                                    Not announced   \n",
       "1                                               31   \n",
       "2                                               27   \n",
       "3                                               21   \n",
       "4                                               32   \n",
       "..                                             ...   \n",
       "64                                             758   \n",
       "65                                             529   \n",
       "66                                             498   \n",
       "67  Contest cancelled due to the COVID-19 pandemic   \n",
       "68                                             524   \n",
       "\n",
       "                                      Runner(s)-up  \\\n",
       "0                                    Not announced   \n",
       "1                                           France   \n",
       "2                                      Switzerland   \n",
       "3                                   United Kingdom   \n",
       "4                                   United Kingdom   \n",
       "..                                             ...   \n",
       "64                                        Bulgaria   \n",
       "65                                          Cyprus   \n",
       "66                                           Italy   \n",
       "67  Contest cancelled due to the COVID-19 pandemic   \n",
       "68                                          France   \n",
       "\n",
       "                                            Margin  \n",
       "0                                    Not announced  \n",
       "1                                               14  \n",
       "2                                                3  \n",
       "3                                                5  \n",
       "4                                                7  \n",
       "..                                             ...  \n",
       "64                                             143  \n",
       "65                                              93  \n",
       "66                                              26  \n",
       "67  Contest cancelled due to the COVID-19 pandemic  \n",
       "68                                              25  \n",
       "\n",
       "[69 rows x 12 columns]"
      ]
     },
     "execution_count": 138,
     "metadata": {},
     "output_type": "execute_result"
    }
   ],
   "source": [
    "evrovizija"
   ]
  },
  {
   "cell_type": "code",
   "execution_count": 139,
   "metadata": {},
   "outputs": [
    {
     "data": {
      "text/plain": [
       "68"
      ]
     },
     "execution_count": 139,
     "metadata": {},
     "output_type": "execute_result"
    }
   ],
   "source": [
    "prava_evrovizija = evrovizija[(evrovizija[\"Host City\"] != \"Contest cancelled due to the COVID-19 pandemic\")]\n",
    "len(prava_evrovizija)"
   ]
  },
  {
   "cell_type": "markdown",
   "metadata": {},
   "source": [
    "To pomeni, da je bila evrovizija izvedena 68-krat."
   ]
  },
  {
   "cell_type": "markdown",
   "metadata": {},
   "source": [
    "Najprej poglejmo naše 2. vprašanje. Poglejmo držav s 7 največ zmagami, saj morda pride do izenačenj."
   ]
  },
  {
   "cell_type": "code",
   "execution_count": 140,
   "metadata": {},
   "outputs": [],
   "source": [
    "Top_dovolj = evrovizija['Winner'].value_counts().head(7)"
   ]
  },
  {
   "cell_type": "code",
   "execution_count": 141,
   "metadata": {},
   "outputs": [
    {
     "data": {
      "text/plain": [
       "Ireland           7\n",
       "Sweden            6\n",
       "France            5\n",
       "Luxembourg        5\n",
       "United Kingdom    5\n",
       "Netherlands       5\n",
       "Israel            4\n",
       "Name: Winner, dtype: int64"
      ]
     },
     "execution_count": 141,
     "metadata": {},
     "output_type": "execute_result"
    }
   ],
   "source": [
    "Top_dovolj"
   ]
  },
  {
   "cell_type": "code",
   "execution_count": 142,
   "metadata": {},
   "outputs": [],
   "source": [
    "Top6 = evrovizija['Winner'].value_counts().head(6)"
   ]
  },
  {
   "cell_type": "code",
   "execution_count": 143,
   "metadata": {},
   "outputs": [
    {
     "data": {
      "text/plain": [
       "Ireland           7\n",
       "Sweden            6\n",
       "France            5\n",
       "Luxembourg        5\n",
       "United Kingdom    5\n",
       "Netherlands       5\n",
       "Name: Winner, dtype: int64"
      ]
     },
     "execution_count": 143,
     "metadata": {},
     "output_type": "execute_result"
    }
   ],
   "source": [
    "Top6"
   ]
  },
  {
   "cell_type": "markdown",
   "metadata": {},
   "source": [
    "Res je prišlo do izenačenj na 3. mestu, zato obravnavajmo kar najboljših 6: Irska, Švedska, Francija, Luksemburg, Velika Britanija in Nizozemska. Izrael je dodan zato, da se res prepričamo, da ni več kot 6 držav potrebnih obravnave."
   ]
  },
  {
   "cell_type": "code",
   "execution_count": 144,
   "metadata": {},
   "outputs": [],
   "source": [
    "A = (evrovizija[((evrovizija.Winner == \"Ireland\") & (evrovizija.Language == \"English\")) | ((evrovizija.Winner == \"Netherlands\") & (evrovizija.Language == \"Dutch\")) |\n",
    " ((evrovizija.Winner == \"Ireland\") & (evrovizija.Language == \"Irish\")) | ((evrovizija.Winner == \"Sweden\") & (evrovizija.Language == \"Swedish\"))\n",
    "| ((evrovizija.Winner == \"France\") & (evrovizija.Language == \"French\")) | ((evrovizija.Winner == \"Luxembourg\") & (evrovizija.Language == \"Luxembourgish\")) |\n",
    "((evrovizija.Winner == \"Luxembourg\") & (evrovizija.Language == \"French\")) | ((evrovizija.Winner == \"Luxembourg\") & (evrovizija.Language == \"German\")) |\n",
    "((evrovizija.Winner == \"Netherlands\") & (evrovizija.Language == \"Dutch\"))])"
   ]
  },
  {
   "cell_type": "code",
   "execution_count": 145,
   "metadata": {},
   "outputs": [
    {
     "data": {
      "text/plain": [
       "22"
      ]
     },
     "execution_count": 145,
     "metadata": {},
     "output_type": "execute_result"
    }
   ],
   "source": [
    "len(A)"
   ]
  },
  {
   "cell_type": "markdown",
   "metadata": {},
   "source": [
    "Sedaj imamo to tabelo. Število vrstic te tabele je število vseh zmag v materinščini (torej 22), torej dovolj je še, da najprej naredimo nekaj, kar nam prešteje število vseh zmag teh 6 držav (tabela \"Top6\"), nato pa naredimo izračun..."
   ]
  },
  {
   "cell_type": "code",
   "execution_count": 146,
   "metadata": {},
   "outputs": [],
   "source": [
    "S = Top6.sum()"
   ]
  },
  {
   "cell_type": "code",
   "execution_count": 147,
   "metadata": {},
   "outputs": [
    {
     "data": {
      "text/plain": [
       "66.66666666666666"
      ]
     },
     "execution_count": 147,
     "metadata": {},
     "output_type": "execute_result"
    }
   ],
   "source": [
    "(22 / S) * 100"
   ]
  },
  {
   "cell_type": "markdown",
   "metadata": {},
   "source": [
    "To pomeni, da je najboljših 6 držav na evroviziji zmagalo v materinščini 66.6% časa. Sedaj se posvetimo 1. točki. Najprej izračunajmo povprečno dolžino zmagovalnih pesmi (za katere poznamo dolžino)."
   ]
  },
  {
   "cell_type": "code",
   "execution_count": 148,
   "metadata": {},
   "outputs": [],
   "source": [
    "B = evrovizija[['Song duration', 'Year']]"
   ]
  },
  {
   "cell_type": "code",
   "execution_count": 149,
   "metadata": {},
   "outputs": [
    {
     "data": {
      "text/html": [
       "<div>\n",
       "<style scoped>\n",
       "    .dataframe tbody tr th:only-of-type {\n",
       "        vertical-align: middle;\n",
       "    }\n",
       "\n",
       "    .dataframe tbody tr th {\n",
       "        vertical-align: top;\n",
       "    }\n",
       "\n",
       "    .dataframe thead th {\n",
       "        text-align: right;\n",
       "    }\n",
       "</style>\n",
       "<table border=\"1\" class=\"dataframe\">\n",
       "  <thead>\n",
       "    <tr style=\"text-align: right;\">\n",
       "      <th></th>\n",
       "      <th>Song duration</th>\n",
       "      <th>Year</th>\n",
       "    </tr>\n",
       "  </thead>\n",
       "  <tbody>\n",
       "    <tr>\n",
       "      <th>0</th>\n",
       "      <td>Unknown</td>\n",
       "      <td>1956</td>\n",
       "    </tr>\n",
       "    <tr>\n",
       "      <th>1</th>\n",
       "      <td>Unknown</td>\n",
       "      <td>1957</td>\n",
       "    </tr>\n",
       "    <tr>\n",
       "      <th>2</th>\n",
       "      <td>Unknown</td>\n",
       "      <td>1958</td>\n",
       "    </tr>\n",
       "    <tr>\n",
       "      <th>3</th>\n",
       "      <td>Unknown</td>\n",
       "      <td>1959</td>\n",
       "    </tr>\n",
       "    <tr>\n",
       "      <th>4</th>\n",
       "      <td>Unknown</td>\n",
       "      <td>1960</td>\n",
       "    </tr>\n",
       "    <tr>\n",
       "      <th>...</th>\n",
       "      <td>...</td>\n",
       "      <td>...</td>\n",
       "    </tr>\n",
       "    <tr>\n",
       "      <th>64</th>\n",
       "      <td>3:05</td>\n",
       "      <td>2017</td>\n",
       "    </tr>\n",
       "    <tr>\n",
       "      <th>65</th>\n",
       "      <td>3:00</td>\n",
       "      <td>2018</td>\n",
       "    </tr>\n",
       "    <tr>\n",
       "      <th>66</th>\n",
       "      <td>3:04</td>\n",
       "      <td>2019</td>\n",
       "    </tr>\n",
       "    <tr>\n",
       "      <th>67</th>\n",
       "      <td>Unknown</td>\n",
       "      <td>2020</td>\n",
       "    </tr>\n",
       "    <tr>\n",
       "      <th>68</th>\n",
       "      <td>3:12</td>\n",
       "      <td>2021</td>\n",
       "    </tr>\n",
       "  </tbody>\n",
       "</table>\n",
       "<p>69 rows × 2 columns</p>\n",
       "</div>"
      ],
      "text/plain": [
       "   Song duration  Year\n",
       "0        Unknown  1956\n",
       "1        Unknown  1957\n",
       "2        Unknown  1958\n",
       "3        Unknown  1959\n",
       "4        Unknown  1960\n",
       "..           ...   ...\n",
       "64          3:05  2017\n",
       "65          3:00  2018\n",
       "66          3:04  2019\n",
       "67       Unknown  2020\n",
       "68          3:12  2021\n",
       "\n",
       "[69 rows x 2 columns]"
      ]
     },
     "execution_count": 149,
     "metadata": {},
     "output_type": "execute_result"
    }
   ],
   "source": [
    "B"
   ]
  },
  {
   "cell_type": "code",
   "execution_count": 150,
   "metadata": {},
   "outputs": [],
   "source": [
    "C = B[B['Song duration'] != 'Unknown']"
   ]
  },
  {
   "cell_type": "markdown",
   "metadata": {},
   "source": [
    "S tem se znebimo vseh let z \"Unknown\", saj tega ne moremo uporabiti v izračunu..."
   ]
  },
  {
   "cell_type": "markdown",
   "metadata": {},
   "source": [
    "Poskusimo spraviti Song duration iz tega formata v število."
   ]
  },
  {
   "cell_type": "code",
   "execution_count": 151,
   "metadata": {},
   "outputs": [
    {
     "name": "stderr",
     "output_type": "stream",
     "text": [
      "C:\\Users\\UPORAB~1\\AppData\\Local\\Temp/ipykernel_10132/3783376289.py:1: SettingWithCopyWarning: \n",
      "A value is trying to be set on a copy of a slice from a DataFrame.\n",
      "Try using .loc[row_indexer,col_indexer] = value instead\n",
      "\n",
      "See the caveats in the documentation: https://pandas.pydata.org/pandas-docs/stable/user_guide/indexing.html#returning-a-view-versus-a-copy\n",
      "  C['Song Duration'] = C['Song duration'].map(lambda x: int(x[0]) * 60 + int(x[2])*10 + int(x[3]))\n"
     ]
    }
   ],
   "source": [
    "C['Song Duration'] = C['Song duration'].map(lambda x: int(x[0]) * 60 + int(x[2])*10 + int(x[3]))"
   ]
  },
  {
   "cell_type": "code",
   "execution_count": 152,
   "metadata": {},
   "outputs": [
    {
     "data": {
      "text/plain": [
       "183.0"
      ]
     },
     "execution_count": 152,
     "metadata": {},
     "output_type": "execute_result"
    }
   ],
   "source": [
    "C['Song Duration'].mean()"
   ]
  },
  {
   "cell_type": "markdown",
   "metadata": {},
   "source": [
    "To nam pove, da je povprečna zmagovalna pesem dolga 183s = 3min 3s. Sedaj še izrišemo graf v odvisnosti od časa..."
   ]
  },
  {
   "cell_type": "code",
   "execution_count": 153,
   "metadata": {},
   "outputs": [
    {
     "data": {
      "text/plain": [
       "<AxesSubplot:xlabel='Year'>"
      ]
     },
     "execution_count": 153,
     "metadata": {},
     "output_type": "execute_result"
    },
    {
     "data": {
      "image/png": "[encoded data removed]",
      "text/plain": [
       "<Figure size 432x288 with 1 Axes>"
      ]
     },
     "metadata": {
      "needs_background": "light"
     },
     "output_type": "display_data"
    }
   ],
   "source": [
    "C.plot(x='Year', y='Song Duration')"
   ]
  },
  {
   "cell_type": "markdown",
   "metadata": {},
   "source": [
    "Lotimo se še 3. dela. Najprej se znebimo problematičnih (neštevilskih) vrstic., nato pa poglejmo samo točke in države v tabeli zase."
   ]
  },
  {
   "cell_type": "code",
   "execution_count": 154,
   "metadata": {},
   "outputs": [],
   "source": [
    "D = evrovizija[(evrovizija['Points'] != 'Not announced') & (evrovizija['Points'] != 'Contest cancelled due to the COVID-19 pandemic')]"
   ]
  },
  {
   "cell_type": "code",
   "execution_count": 155,
   "metadata": {},
   "outputs": [],
   "source": [
    "E = D[[\"Winner\", \"Points\"]]"
   ]
  },
  {
   "cell_type": "code",
   "execution_count": 156,
   "metadata": {},
   "outputs": [
    {
     "data": {
      "text/html": [
       "<div>\n",
       "<style scoped>\n",
       "    .dataframe tbody tr th:only-of-type {\n",
       "        vertical-align: middle;\n",
       "    }\n",
       "\n",
       "    .dataframe tbody tr th {\n",
       "        vertical-align: top;\n",
       "    }\n",
       "\n",
       "    .dataframe thead th {\n",
       "        text-align: right;\n",
       "    }\n",
       "</style>\n",
       "<table border=\"1\" class=\"dataframe\">\n",
       "  <thead>\n",
       "    <tr style=\"text-align: right;\">\n",
       "      <th></th>\n",
       "      <th>Winner</th>\n",
       "      <th>Points</th>\n",
       "    </tr>\n",
       "  </thead>\n",
       "  <tbody>\n",
       "    <tr>\n",
       "      <th>1</th>\n",
       "      <td>Netherlands</td>\n",
       "      <td>31</td>\n",
       "    </tr>\n",
       "    <tr>\n",
       "      <th>2</th>\n",
       "      <td>France</td>\n",
       "      <td>27</td>\n",
       "    </tr>\n",
       "    <tr>\n",
       "      <th>3</th>\n",
       "      <td>Netherlands</td>\n",
       "      <td>21</td>\n",
       "    </tr>\n",
       "    <tr>\n",
       "      <th>4</th>\n",
       "      <td>France</td>\n",
       "      <td>32</td>\n",
       "    </tr>\n",
       "    <tr>\n",
       "      <th>5</th>\n",
       "      <td>Luxembourg</td>\n",
       "      <td>31</td>\n",
       "    </tr>\n",
       "    <tr>\n",
       "      <th>...</th>\n",
       "      <td>...</td>\n",
       "      <td>...</td>\n",
       "    </tr>\n",
       "    <tr>\n",
       "      <th>63</th>\n",
       "      <td>Ukraine</td>\n",
       "      <td>534</td>\n",
       "    </tr>\n",
       "    <tr>\n",
       "      <th>64</th>\n",
       "      <td>Portugal</td>\n",
       "      <td>758</td>\n",
       "    </tr>\n",
       "    <tr>\n",
       "      <th>65</th>\n",
       "      <td>Israel</td>\n",
       "      <td>529</td>\n",
       "    </tr>\n",
       "    <tr>\n",
       "      <th>66</th>\n",
       "      <td>Netherlands</td>\n",
       "      <td>498</td>\n",
       "    </tr>\n",
       "    <tr>\n",
       "      <th>68</th>\n",
       "      <td>Italy</td>\n",
       "      <td>524</td>\n",
       "    </tr>\n",
       "  </tbody>\n",
       "</table>\n",
       "<p>67 rows × 2 columns</p>\n",
       "</div>"
      ],
      "text/plain": [
       "         Winner Points\n",
       "1   Netherlands     31\n",
       "2        France     27\n",
       "3   Netherlands     21\n",
       "4        France     32\n",
       "5    Luxembourg     31\n",
       "..          ...    ...\n",
       "63      Ukraine    534\n",
       "64     Portugal    758\n",
       "65       Israel    529\n",
       "66  Netherlands    498\n",
       "68        Italy    524\n",
       "\n",
       "[67 rows x 2 columns]"
      ]
     },
     "execution_count": 156,
     "metadata": {},
     "output_type": "execute_result"
    }
   ],
   "source": [
    "E"
   ]
  },
  {
   "cell_type": "code",
   "execution_count": 157,
   "metadata": {},
   "outputs": [
    {
     "name": "stderr",
     "output_type": "stream",
     "text": [
      "C:\\Users\\Uporabnik\\AppData\\Local\\Programs\\Python\\Python39\\lib\\site-packages\\pandas\\core\\generic.py:5516: SettingWithCopyWarning: \n",
      "A value is trying to be set on a copy of a slice from a DataFrame.\n",
      "Try using .loc[row_indexer,col_indexer] = value instead\n",
      "\n",
      "See the caveats in the documentation: https://pandas.pydata.org/pandas-docs/stable/user_guide/indexing.html#returning-a-view-versus-a-copy\n",
      "  self[name] = value\n"
     ]
    }
   ],
   "source": [
    "E.Points = E.Points.astype(float)\n",
    "Dopolnjeno = E.groupby('Winner')['Points'].sum().reset_index()"
   ]
  },
  {
   "cell_type": "code",
   "execution_count": 158,
   "metadata": {},
   "outputs": [
    {
     "data": {
      "text/html": [
       "<div>\n",
       "<style scoped>\n",
       "    .dataframe tbody tr th:only-of-type {\n",
       "        vertical-align: middle;\n",
       "    }\n",
       "\n",
       "    .dataframe tbody tr th {\n",
       "        vertical-align: top;\n",
       "    }\n",
       "\n",
       "    .dataframe thead th {\n",
       "        text-align: right;\n",
       "    }\n",
       "</style>\n",
       "<table border=\"1\" class=\"dataframe\">\n",
       "  <thead>\n",
       "    <tr style=\"text-align: right;\">\n",
       "      <th></th>\n",
       "      <th>Winner</th>\n",
       "      <th>Points</th>\n",
       "    </tr>\n",
       "  </thead>\n",
       "  <tbody>\n",
       "    <tr>\n",
       "      <th>15</th>\n",
       "      <td>Netherlands</td>\n",
       "      <td>720.0</td>\n",
       "    </tr>\n",
       "    <tr>\n",
       "      <th>11</th>\n",
       "      <td>Italy</td>\n",
       "      <td>722.0</td>\n",
       "    </tr>\n",
       "    <tr>\n",
       "      <th>17</th>\n",
       "      <td>Portugal</td>\n",
       "      <td>758.0</td>\n",
       "    </tr>\n",
       "    <tr>\n",
       "      <th>24</th>\n",
       "      <td>Ukraine</td>\n",
       "      <td>814.0</td>\n",
       "    </tr>\n",
       "    <tr>\n",
       "      <th>10</th>\n",
       "      <td>Israel</td>\n",
       "      <td>983.0</td>\n",
       "    </tr>\n",
       "    <tr>\n",
       "      <th>9</th>\n",
       "      <td>Ireland</td>\n",
       "      <td>1077.0</td>\n",
       "    </tr>\n",
       "    <tr>\n",
       "      <th>21</th>\n",
       "      <td>Sweden</td>\n",
       "      <td>1215.0</td>\n",
       "    </tr>\n",
       "  </tbody>\n",
       "</table>\n",
       "</div>"
      ],
      "text/plain": [
       "         Winner  Points\n",
       "15  Netherlands   720.0\n",
       "11        Italy   722.0\n",
       "17     Portugal   758.0\n",
       "24      Ukraine   814.0\n",
       "10       Israel   983.0\n",
       "9       Ireland  1077.0\n",
       "21       Sweden  1215.0"
      ]
     },
     "execution_count": 158,
     "metadata": {},
     "output_type": "execute_result"
    }
   ],
   "source": [
    "Dopolnjeno.sort_values('Points').tail(7)"
   ]
  },
  {
   "cell_type": "markdown",
   "metadata": {},
   "source": [
    "Poglejmo rezultat. Najboljših 6 držav po številu točk je torej:\n",
    "Švedska\n",
    ", Irska\n",
    ", Izrael\n",
    ", Ukrajina\n",
    ", Portugalska\n",
    ", Italija\n",
    "\n",
    "Ali se to ujema s 5 državami z največ zmagami? Deloma. Na lestvici ostajata le Irska in Švedska. To si lahko pojasnimo na sledeč način: Vsako leto je očitno \"v igri\" več točk, na začetku opazimo, da so zmagovale države že z 31 točkami, na koncu pa morajo doseči že po 500 in več točk. Švedska se je na lestvici torej ohranila zato, ker je na lestvici držav z največ zmagami zaradi pretežno zadnjih 25 let (modernejše dobe, kjer je bilo vedno razdeljenih več točk), Irsko si pa pojasnimo tako, da je že tako ali tako imela največ zmag, kar zagotovo prispeva k vsoti, hkrati pa te zmage niso ravno stare, niso pa tako nove, kot so švedske. Ugotovimo torej, da nad rezultatom sploh ne bi smeli biti tako presenečeni."
   ]
  },
  {
   "cell_type": "code",
   "execution_count": 159,
   "metadata": {},
   "outputs": [],
   "source": [
    "F = evrovizija['Performer(s)'].value_counts().head(3)"
   ]
  },
  {
   "cell_type": "code",
   "execution_count": 160,
   "metadata": {},
   "outputs": [
    {
     "data": {
      "text/plain": [
       "Johnny Logan             2\n",
       "Lys Assia                1\n",
       "Katrina and the Waves    1\n",
       "Name: Performer(s), dtype: int64"
      ]
     },
     "execution_count": 160,
     "metadata": {},
     "output_type": "execute_result"
    }
   ],
   "source": [
    "F"
   ]
  },
  {
   "cell_type": "markdown",
   "metadata": {},
   "source": [
    "Opazimo torej, da je edini večkratni zmagovalec Johnny Logan, zmagal je pa dvakrat."
   ]
  },
  {
   "cell_type": "code",
   "execution_count": 161,
   "metadata": {},
   "outputs": [],
   "source": [
    "G = evrovizija[(evrovizija['Performer(s)'] == 'Johnny Logan')]"
   ]
  },
  {
   "cell_type": "code",
   "execution_count": 162,
   "metadata": {},
   "outputs": [
    {
     "data": {
      "text/html": [
       "<div>\n",
       "<style scoped>\n",
       "    .dataframe tbody tr th:only-of-type {\n",
       "        vertical-align: middle;\n",
       "    }\n",
       "\n",
       "    .dataframe tbody tr th {\n",
       "        vertical-align: top;\n",
       "    }\n",
       "\n",
       "    .dataframe thead th {\n",
       "        text-align: right;\n",
       "    }\n",
       "</style>\n",
       "<table border=\"1\" class=\"dataframe\">\n",
       "  <thead>\n",
       "    <tr style=\"text-align: right;\">\n",
       "      <th></th>\n",
       "      <th>Year</th>\n",
       "      <th>Host City</th>\n",
       "      <th>Date</th>\n",
       "      <th>Winner</th>\n",
       "      <th>Song</th>\n",
       "      <th>Song duration</th>\n",
       "      <th>Performer(s)</th>\n",
       "      <th>Songwriter(s)</th>\n",
       "      <th>Language</th>\n",
       "      <th>Points</th>\n",
       "      <th>Runner(s)-up</th>\n",
       "      <th>Margin</th>\n",
       "    </tr>\n",
       "  </thead>\n",
       "  <tbody>\n",
       "    <tr>\n",
       "      <th>27</th>\n",
       "      <td>1980</td>\n",
       "      <td>The Hague</td>\n",
       "      <td>19 April</td>\n",
       "      <td>Ireland</td>\n",
       "      <td>What's Another Year</td>\n",
       "      <td>Unknown</td>\n",
       "      <td>Johnny Logan</td>\n",
       "      <td>Shay Healy</td>\n",
       "      <td>English</td>\n",
       "      <td>143</td>\n",
       "      <td>Germany</td>\n",
       "      <td>15</td>\n",
       "    </tr>\n",
       "    <tr>\n",
       "      <th>34</th>\n",
       "      <td>1987</td>\n",
       "      <td>Brussels</td>\n",
       "      <td>9 May</td>\n",
       "      <td>Ireland</td>\n",
       "      <td>Hold Me Now</td>\n",
       "      <td>Unknown</td>\n",
       "      <td>Johnny Logan</td>\n",
       "      <td>Johnny Logan</td>\n",
       "      <td>English</td>\n",
       "      <td>172</td>\n",
       "      <td>Germany</td>\n",
       "      <td>31</td>\n",
       "    </tr>\n",
       "  </tbody>\n",
       "</table>\n",
       "</div>"
      ],
      "text/plain": [
       "    Year  Host City      Date   Winner                 Song Song duration  \\\n",
       "27  1980  The Hague  19 April  Ireland  What's Another Year       Unknown   \n",
       "34  1987   Brussels     9 May  Ireland          Hold Me Now       Unknown   \n",
       "\n",
       "    Performer(s) Songwriter(s) Language Points Runner(s)-up Margin  \n",
       "27  Johnny Logan    Shay Healy  English    143      Germany     15  \n",
       "34  Johnny Logan  Johnny Logan  English    172      Germany     31  "
      ]
     },
     "execution_count": 162,
     "metadata": {},
     "output_type": "execute_result"
    }
   ],
   "source": [
    "G"
   ]
  },
  {
   "cell_type": "markdown",
   "metadata": {},
   "source": [
    "Opazimo torej, da je zmagal obakrat za Irsko, je pa bila obakrat na drugem mestu Nemčija. Obakrat je pel v angleščini, drugič, ko je pa dosegel tudi več točk, je pa pesem napisal sam! To nas privede do vprašanja: Kolikokrat se je pa zgodilo v splošnem, da je izvajaec zmagal s svojo lastno pesmijo? Glede na to, da so nekoč nagrade namesto izvajalcev dobili avtorji pesmi, je to dejansko pomemben podatek!"
   ]
  },
  {
   "cell_type": "code",
   "execution_count": 163,
   "metadata": {},
   "outputs": [],
   "source": [
    "cisti_zmagovalci = evrovizija[(evrovizija[\"Performer(s)\"] == evrovizija[\"Songwriter(s)\"]) & (evrovizija[\"Winner\"] != \"Contest cancelled due to the COVID-19 pandemic\")]"
   ]
  },
  {
   "cell_type": "code",
   "execution_count": 164,
   "metadata": {},
   "outputs": [
    {
     "data": {
      "text/plain": [
       "4"
      ]
     },
     "execution_count": 164,
     "metadata": {},
     "output_type": "execute_result"
    }
   ],
   "source": [
    "len(cisti_zmagovalci)"
   ]
  },
  {
   "cell_type": "markdown",
   "metadata": {},
   "source": [
    "To se je torej zgodilo štirikrat, vseh evrovizij je pa bilo, kot smo že ugotovili 68, torej ni pogost pojav, da zmaga izvajalec s svojo lastno skladbo."
   ]
  }
 ],
 "metadata": {
  "interpreter": {
   "hash": "c6405777baf35b2f01a05c4563d40be666ce7bd5a9f884f64ae7afd4d7ffc392"
  },
  "kernelspec": {
   "display_name": "Python 3.9.2 64-bit",
   "language": "python",
   "name": "python3"
  },
  "language_info": {
   "codemirror_mode": {
    "name": "ipython",
    "version": 3
   },
   "file_extension": ".py",
   "mimetype": "text/x-python",
   "name": "python",
   "nbconvert_exporter": "python",
   "pygments_lexer": "ipython3",
   "version": "3.9.2"
  },
  "orig_nbformat": 4
 },
 "nbformat": 4,
 "nbformat_minor": 2
}
